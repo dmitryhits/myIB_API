{
 "cells": [
  {
   "cell_type": "code",
   "execution_count": 20,
   "metadata": {},
   "outputs": [],
   "source": [
    "import pandas as pd\n",
    "import matplotlib.pyplot as plt"
   ]
  },
  {
   "cell_type": "code",
   "execution_count": 6,
   "metadata": {},
   "outputs": [],
   "source": [
    "stock = pd.read_hdf('SPY.h5')"
   ]
  },
  {
   "cell_type": "code",
   "execution_count": 7,
   "metadata": {},
   "outputs": [
    {
     "data": {
      "text/html": [
       "<div>\n",
       "<style scoped>\n",
       "    .dataframe tbody tr th:only-of-type {\n",
       "        vertical-align: middle;\n",
       "    }\n",
       "\n",
       "    .dataframe tbody tr th {\n",
       "        vertical-align: top;\n",
       "    }\n",
       "\n",
       "    .dataframe thead th {\n",
       "        text-align: right;\n",
       "    }\n",
       "</style>\n",
       "<table border=\"1\" class=\"dataframe\">\n",
       "  <thead>\n",
       "    <tr style=\"text-align: right;\">\n",
       "      <th></th>\n",
       "      <th>reqID</th>\n",
       "      <th>Open</th>\n",
       "      <th>High</th>\n",
       "      <th>Low</th>\n",
       "      <th>Close</th>\n",
       "      <th>Volume</th>\n",
       "      <th>Count</th>\n",
       "      <th>WAP</th>\n",
       "    </tr>\n",
       "    <tr>\n",
       "      <th>Date</th>\n",
       "      <th></th>\n",
       "      <th></th>\n",
       "      <th></th>\n",
       "      <th></th>\n",
       "      <th></th>\n",
       "      <th></th>\n",
       "      <th></th>\n",
       "      <th></th>\n",
       "    </tr>\n",
       "  </thead>\n",
       "  <tbody>\n",
       "    <tr>\n",
       "      <th>2018-04-16 15:30:00</th>\n",
       "      <td>5001</td>\n",
       "      <td>267.00</td>\n",
       "      <td>267.08</td>\n",
       "      <td>266.46</td>\n",
       "      <td>266.61</td>\n",
       "      <td>14411</td>\n",
       "      <td>5469</td>\n",
       "      <td>266.843</td>\n",
       "    </tr>\n",
       "    <tr>\n",
       "      <th>2018-04-16 15:35:00</th>\n",
       "      <td>5001</td>\n",
       "      <td>266.62</td>\n",
       "      <td>266.66</td>\n",
       "      <td>266.24</td>\n",
       "      <td>266.43</td>\n",
       "      <td>11193</td>\n",
       "      <td>4497</td>\n",
       "      <td>266.410</td>\n",
       "    </tr>\n",
       "    <tr>\n",
       "      <th>2018-04-16 15:40:00</th>\n",
       "      <td>5001</td>\n",
       "      <td>266.42</td>\n",
       "      <td>266.53</td>\n",
       "      <td>266.07</td>\n",
       "      <td>266.47</td>\n",
       "      <td>9078</td>\n",
       "      <td>4058</td>\n",
       "      <td>266.282</td>\n",
       "    </tr>\n",
       "    <tr>\n",
       "      <th>2018-04-16 15:45:00</th>\n",
       "      <td>5001</td>\n",
       "      <td>266.46</td>\n",
       "      <td>266.75</td>\n",
       "      <td>266.45</td>\n",
       "      <td>266.55</td>\n",
       "      <td>9429</td>\n",
       "      <td>4347</td>\n",
       "      <td>266.558</td>\n",
       "    </tr>\n",
       "    <tr>\n",
       "      <th>2018-04-16 15:50:00</th>\n",
       "      <td>5001</td>\n",
       "      <td>266.55</td>\n",
       "      <td>266.59</td>\n",
       "      <td>266.16</td>\n",
       "      <td>266.35</td>\n",
       "      <td>7948</td>\n",
       "      <td>3338</td>\n",
       "      <td>266.329</td>\n",
       "    </tr>\n",
       "  </tbody>\n",
       "</table>\n",
       "</div>"
      ],
      "text/plain": [
       "                    reqID    Open    High     Low   Close Volume Count  \\\n",
       "Date                                                                     \n",
       "2018-04-16 15:30:00  5001  267.00  267.08  266.46  266.61  14411  5469   \n",
       "2018-04-16 15:35:00  5001  266.62  266.66  266.24  266.43  11193  4497   \n",
       "2018-04-16 15:40:00  5001  266.42  266.53  266.07  266.47   9078  4058   \n",
       "2018-04-16 15:45:00  5001  266.46  266.75  266.45  266.55   9429  4347   \n",
       "2018-04-16 15:50:00  5001  266.55  266.59  266.16  266.35   7948  3338   \n",
       "\n",
       "                         WAP  \n",
       "Date                          \n",
       "2018-04-16 15:30:00  266.843  \n",
       "2018-04-16 15:35:00  266.410  \n",
       "2018-04-16 15:40:00  266.282  \n",
       "2018-04-16 15:45:00  266.558  \n",
       "2018-04-16 15:50:00  266.329  "
      ]
     },
     "execution_count": 7,
     "metadata": {},
     "output_type": "execute_result"
    }
   ],
   "source": [
    "stock.head()"
   ]
  },
  {
   "cell_type": "code",
   "execution_count": 8,
   "metadata": {},
   "outputs": [
    {
     "data": {
      "text/plain": [
       "reqID      object\n",
       "Open      float64\n",
       "High      float64\n",
       "Low       float64\n",
       "Close     float64\n",
       "Volume     object\n",
       "Count      object\n",
       "WAP       float64\n",
       "dtype: object"
      ]
     },
     "execution_count": 8,
     "metadata": {},
     "output_type": "execute_result"
    }
   ],
   "source": [
    "stock.dtypes"
   ]
  },
  {
   "cell_type": "code",
   "execution_count": 9,
   "metadata": {},
   "outputs": [],
   "source": [
    "stock.reqID = stock.reqID.astype('int32')\n",
    "stock.Volume = stock.Volume.astype('int64')\n",
    "stock.Count = stock.Count.astype('int64')"
   ]
  },
  {
   "cell_type": "code",
   "execution_count": null,
   "metadata": {},
   "outputs": [],
   "source": []
  },
  {
   "cell_type": "code",
   "execution_count": 10,
   "metadata": {},
   "outputs": [
    {
     "name": "stdout",
     "output_type": "stream",
     "text": [
      "Populating the interactive namespace from numpy and matplotlib\n"
     ]
    }
   ],
   "source": [
    "%pylab inline"
   ]
  },
  {
   "cell_type": "code",
   "execution_count": 11,
   "metadata": {},
   "outputs": [],
   "source": [
    "xlabels = stock['2004-02'].index[::200]"
   ]
  },
  {
   "cell_type": "code",
   "execution_count": 12,
   "metadata": {},
   "outputs": [
    {
     "data": {
      "text/plain": [
       "<matplotlib.axes._subplots.AxesSubplot at 0x1128a5a20>"
      ]
     },
     "execution_count": 12,
     "metadata": {},
     "output_type": "execute_result"
    },
    {
     "data": {
      "image/png": "[encoded data removed]",
      "text/plain": [
       "<Figure size 432x288 with 1 Axes>"
      ]
     },
     "metadata": {},
     "output_type": "display_data"
    }
   ],
   "source": [
    "stock['2004-02'].WAP.plot(use_index=False)"
   ]
  },
  {
   "cell_type": "code",
   "execution_count": 15,
   "metadata": {},
   "outputs": [
    {
     "data": {
      "text/html": [
       "<div>\n",
       "<style scoped>\n",
       "    .dataframe tbody tr th:only-of-type {\n",
       "        vertical-align: middle;\n",
       "    }\n",
       "\n",
       "    .dataframe tbody tr th {\n",
       "        vertical-align: top;\n",
       "    }\n",
       "\n",
       "    .dataframe thead th {\n",
       "        text-align: right;\n",
       "    }\n",
       "</style>\n",
       "<table border=\"1\" class=\"dataframe\">\n",
       "  <thead>\n",
       "    <tr style=\"text-align: right;\">\n",
       "      <th></th>\n",
       "      <th>reqID</th>\n",
       "      <th>Open</th>\n",
       "      <th>High</th>\n",
       "      <th>Low</th>\n",
       "      <th>Close</th>\n",
       "      <th>Volume</th>\n",
       "      <th>Count</th>\n",
       "      <th>WAP</th>\n",
       "      <th>DiffHL</th>\n",
       "      <th>DiffOC</th>\n",
       "      <th>VolumeOverCount</th>\n",
       "    </tr>\n",
       "    <tr>\n",
       "      <th>Date</th>\n",
       "      <th></th>\n",
       "      <th></th>\n",
       "      <th></th>\n",
       "      <th></th>\n",
       "      <th></th>\n",
       "      <th></th>\n",
       "      <th></th>\n",
       "      <th></th>\n",
       "      <th></th>\n",
       "      <th></th>\n",
       "      <th></th>\n",
       "    </tr>\n",
       "  </thead>\n",
       "  <tbody>\n",
       "    <tr>\n",
       "      <th>2018-04-16 15:30:00</th>\n",
       "      <td>5001</td>\n",
       "      <td>267.00</td>\n",
       "      <td>267.08</td>\n",
       "      <td>266.46</td>\n",
       "      <td>266.61</td>\n",
       "      <td>14411</td>\n",
       "      <td>5469</td>\n",
       "      <td>266.843</td>\n",
       "      <td>0.002323</td>\n",
       "      <td>0.39</td>\n",
       "      <td>2.635034</td>\n",
       "    </tr>\n",
       "    <tr>\n",
       "      <th>2018-04-16 15:35:00</th>\n",
       "      <td>5001</td>\n",
       "      <td>266.62</td>\n",
       "      <td>266.66</td>\n",
       "      <td>266.24</td>\n",
       "      <td>266.43</td>\n",
       "      <td>11193</td>\n",
       "      <td>4497</td>\n",
       "      <td>266.410</td>\n",
       "      <td>0.001577</td>\n",
       "      <td>0.19</td>\n",
       "      <td>2.488993</td>\n",
       "    </tr>\n",
       "    <tr>\n",
       "      <th>2018-04-16 15:40:00</th>\n",
       "      <td>5001</td>\n",
       "      <td>266.42</td>\n",
       "      <td>266.53</td>\n",
       "      <td>266.07</td>\n",
       "      <td>266.47</td>\n",
       "      <td>9078</td>\n",
       "      <td>4058</td>\n",
       "      <td>266.282</td>\n",
       "      <td>0.001727</td>\n",
       "      <td>0.05</td>\n",
       "      <td>2.237063</td>\n",
       "    </tr>\n",
       "    <tr>\n",
       "      <th>2018-04-16 15:45:00</th>\n",
       "      <td>5001</td>\n",
       "      <td>266.46</td>\n",
       "      <td>266.75</td>\n",
       "      <td>266.45</td>\n",
       "      <td>266.55</td>\n",
       "      <td>9429</td>\n",
       "      <td>4347</td>\n",
       "      <td>266.558</td>\n",
       "      <td>0.001125</td>\n",
       "      <td>0.09</td>\n",
       "      <td>2.169082</td>\n",
       "    </tr>\n",
       "    <tr>\n",
       "      <th>2018-04-16 15:50:00</th>\n",
       "      <td>5001</td>\n",
       "      <td>266.55</td>\n",
       "      <td>266.59</td>\n",
       "      <td>266.16</td>\n",
       "      <td>266.35</td>\n",
       "      <td>7948</td>\n",
       "      <td>3338</td>\n",
       "      <td>266.329</td>\n",
       "      <td>0.001615</td>\n",
       "      <td>0.20</td>\n",
       "      <td>2.381067</td>\n",
       "    </tr>\n",
       "  </tbody>\n",
       "</table>\n",
       "</div>"
      ],
      "text/plain": [
       "                     reqID    Open    High     Low   Close  Volume  Count  \\\n",
       "Date                                                                        \n",
       "2018-04-16 15:30:00   5001  267.00  267.08  266.46  266.61   14411   5469   \n",
       "2018-04-16 15:35:00   5001  266.62  266.66  266.24  266.43   11193   4497   \n",
       "2018-04-16 15:40:00   5001  266.42  266.53  266.07  266.47    9078   4058   \n",
       "2018-04-16 15:45:00   5001  266.46  266.75  266.45  266.55    9429   4347   \n",
       "2018-04-16 15:50:00   5001  266.55  266.59  266.16  266.35    7948   3338   \n",
       "\n",
       "                         WAP    DiffHL  DiffOC  VolumeOverCount  \n",
       "Date                                                             \n",
       "2018-04-16 15:30:00  266.843  0.002323    0.39         2.635034  \n",
       "2018-04-16 15:35:00  266.410  0.001577    0.19         2.488993  \n",
       "2018-04-16 15:40:00  266.282  0.001727    0.05         2.237063  \n",
       "2018-04-16 15:45:00  266.558  0.001125    0.09         2.169082  \n",
       "2018-04-16 15:50:00  266.329  0.001615    0.20         2.381067  "
      ]
     },
     "execution_count": 15,
     "metadata": {},
     "output_type": "execute_result"
    }
   ],
   "source": [
    "stock[\"DiffHL\"] = (stock.High-stock.Low)/stock.WAP\n",
    "stock[\"DiffOC\"] = abs(stock.Open-stock.Close)\n",
    "stock[\"VolumeOverCount\"] =stock.Volume/stock.Count\n",
    "stock.head()"
   ]
  },
  {
   "cell_type": "code",
   "execution_count": 30,
   "metadata": {},
   "outputs": [
    {
     "data": {
      "text/plain": [
       "<matplotlib.axes._subplots.AxesSubplot at 0x12574e128>"
      ]
     },
     "execution_count": 30,
     "metadata": {},
     "output_type": "execute_result"
    },
    {
     "data": {
      "image/png": "[encoded data removed]",
      "text/plain": [
       "<Figure size 432x288 with 1 Axes>"
      ]
     },
     "metadata": {},
     "output_type": "display_data"
    }
   ],
   "source": [
    "stock['VolumeOverCount'].hist(log=True, bins=1000)"
   ]
  },
  {
   "cell_type": "code",
   "execution_count": null,
   "metadata": {},
   "outputs": [],
   "source": []
  }
 ],
 "metadata": {
  "kernelspec": {
   "display_name": "Python 3",
   "language": "python",
   "name": "python3"
  },
  "language_info": {
   "codemirror_mode": {
    "name": "ipython",
    "version": 3
   },
   "file_extension": ".py",
   "mimetype": "text/x-python",
   "name": "python",
   "nbconvert_exporter": "python",
   "pygments_lexer": "ipython3",
   "version": "3.6.4"
  }
 },
 "nbformat": 4,
 "nbformat_minor": 2
}
