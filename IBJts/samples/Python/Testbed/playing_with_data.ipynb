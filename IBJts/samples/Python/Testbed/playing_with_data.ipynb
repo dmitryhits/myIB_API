{
 "cells": [
  {
   "cell_type": "code",
   "execution_count": 1,
   "metadata": {},
   "outputs": [],
   "source": [
    "import pandas as pd"
   ]
  },
  {
   "cell_type": "code",
   "execution_count": 3,
   "metadata": {},
   "outputs": [],
   "source": [
    "stock = pd.read_hdf('Bstock.h5')"
   ]
  },
  {
   "cell_type": "code",
   "execution_count": 8,
   "metadata": {},
   "outputs": [
    {
     "data": {
      "text/html": [
       "<div>\n",
       "<style scoped>\n",
       "    .dataframe tbody tr th:only-of-type {\n",
       "        vertical-align: middle;\n",
       "    }\n",
       "\n",
       "    .dataframe tbody tr th {\n",
       "        vertical-align: top;\n",
       "    }\n",
       "\n",
       "    .dataframe thead th {\n",
       "        text-align: right;\n",
       "    }\n",
       "</style>\n",
       "<table border=\"1\" class=\"dataframe\">\n",
       "  <thead>\n",
       "    <tr style=\"text-align: right;\">\n",
       "      <th></th>\n",
       "      <th>reqID</th>\n",
       "      <th>Open</th>\n",
       "      <th>High</th>\n",
       "      <th>Low</th>\n",
       "      <th>Close</th>\n",
       "      <th>Volume</th>\n",
       "      <th>Count</th>\n",
       "      <th>WAP</th>\n",
       "    </tr>\n",
       "    <tr>\n",
       "      <th>Date</th>\n",
       "      <th></th>\n",
       "      <th></th>\n",
       "      <th></th>\n",
       "      <th></th>\n",
       "      <th></th>\n",
       "      <th></th>\n",
       "      <th></th>\n",
       "      <th></th>\n",
       "    </tr>\n",
       "  </thead>\n",
       "  <tbody>\n",
       "    <tr>\n",
       "      <th>2004-02-17 15:30:00</th>\n",
       "      <td>5000</td>\n",
       "      <td>3.31</td>\n",
       "      <td>3.36</td>\n",
       "      <td>3.30</td>\n",
       "      <td>3.36</td>\n",
       "      <td>12215</td>\n",
       "      <td>506</td>\n",
       "      <td>3.325714</td>\n",
       "    </tr>\n",
       "    <tr>\n",
       "      <th>2004-02-17 15:35:00</th>\n",
       "      <td>5000</td>\n",
       "      <td>3.35</td>\n",
       "      <td>3.36</td>\n",
       "      <td>3.32</td>\n",
       "      <td>3.33</td>\n",
       "      <td>14686</td>\n",
       "      <td>311</td>\n",
       "      <td>3.332143</td>\n",
       "    </tr>\n",
       "    <tr>\n",
       "      <th>2004-02-17 15:40:00</th>\n",
       "      <td>5000</td>\n",
       "      <td>3.33</td>\n",
       "      <td>3.34</td>\n",
       "      <td>3.33</td>\n",
       "      <td>3.34</td>\n",
       "      <td>9233</td>\n",
       "      <td>170</td>\n",
       "      <td>3.333714</td>\n",
       "    </tr>\n",
       "    <tr>\n",
       "      <th>2004-02-17 15:45:00</th>\n",
       "      <td>5000</td>\n",
       "      <td>3.34</td>\n",
       "      <td>3.34</td>\n",
       "      <td>3.32</td>\n",
       "      <td>3.33</td>\n",
       "      <td>5327</td>\n",
       "      <td>75</td>\n",
       "      <td>3.328143</td>\n",
       "    </tr>\n",
       "    <tr>\n",
       "      <th>2004-02-17 15:50:00</th>\n",
       "      <td>5000</td>\n",
       "      <td>3.33</td>\n",
       "      <td>3.33</td>\n",
       "      <td>3.32</td>\n",
       "      <td>3.32</td>\n",
       "      <td>4270</td>\n",
       "      <td>113</td>\n",
       "      <td>3.323429</td>\n",
       "    </tr>\n",
       "  </tbody>\n",
       "</table>\n",
       "</div>"
      ],
      "text/plain": [
       "                    reqID  Open  High   Low  Close Volume Count       WAP\n",
       "Date                                                                     \n",
       "2004-02-17 15:30:00  5000  3.31  3.36  3.30   3.36  12215   506  3.325714\n",
       "2004-02-17 15:35:00  5000  3.35  3.36  3.32   3.33  14686   311  3.332143\n",
       "2004-02-17 15:40:00  5000  3.33  3.34  3.33   3.34   9233   170  3.333714\n",
       "2004-02-17 15:45:00  5000  3.34  3.34  3.32   3.33   5327    75  3.328143\n",
       "2004-02-17 15:50:00  5000  3.33  3.33  3.32   3.32   4270   113  3.323429"
      ]
     },
     "execution_count": 8,
     "metadata": {},
     "output_type": "execute_result"
    }
   ],
   "source": [
    "stock.head()"
   ]
  },
  {
   "cell_type": "code",
   "execution_count": 18,
   "metadata": {},
   "outputs": [
    {
     "data": {
      "text/plain": [
       "reqID       int32\n",
       "Open      float64\n",
       "High      float64\n",
       "Low       float64\n",
       "Close     float64\n",
       "Volume      int64\n",
       "Count       int64\n",
       "WAP       float64\n",
       "dtype: object"
      ]
     },
     "execution_count": 18,
     "metadata": {},
     "output_type": "execute_result"
    }
   ],
   "source": [
    "stock.dtypes"
   ]
  },
  {
   "cell_type": "code",
   "execution_count": 16,
   "metadata": {},
   "outputs": [],
   "source": [
    "stock.reqID = stock.reqID.astype('int32')\n",
    "stock.Volume = stock.Volume.astype('int64')\n",
    "stock.Count = stock.Count.astype('int64')"
   ]
  },
  {
   "cell_type": "code",
   "execution_count": 17,
   "metadata": {},
   "outputs": [
    {
     "data": {
      "text/plain": [
       "reqID       int32\n",
       "Open      float64\n",
       "High      float64\n",
       "Low       float64\n",
       "Close     float64\n",
       "Volume      int64\n",
       "Count       int64\n",
       "WAP       float64\n",
       "dtype: object"
      ]
     },
     "execution_count": 17,
     "metadata": {},
     "output_type": "execute_result"
    }
   ],
   "source": []
  },
  {
   "cell_type": "code",
   "execution_count": 21,
   "metadata": {},
   "outputs": [
    {
     "name": "stdout",
     "output_type": "stream",
     "text": [
      "Populating the interactive namespace from numpy and matplotlib\n"
     ]
    }
   ],
   "source": [
    "%pylab inline"
   ]
  },
  {
   "cell_type": "code",
   "execution_count": 50,
   "metadata": {},
   "outputs": [],
   "source": [
    "xlabels = stock['2004-02'].index[::200]"
   ]
  },
  {
   "cell_type": "code",
   "execution_count": 74,
   "metadata": {},
   "outputs": [
    {
     "data": {
      "text/plain": [
       "<matplotlib.axes._subplots.AxesSubplot at 0x128fa3550>"
      ]
     },
     "execution_count": 74,
     "metadata": {},
     "output_type": "execute_result"
    },
    {
     "data": {
      "image/png": "[encoded data removed]",
      "text/plain": [
       "<Figure size 432x288 with 1 Axes>"
      ]
     },
     "metadata": {},
     "output_type": "display_data"
    }
   ],
   "source": [
    "stock['2004-02'].WAP.plot(use_index=False)"
   ]
  },
  {
   "cell_type": "code",
   "execution_count": 80,
   "metadata": {},
   "outputs": [
    {
     "data": {
      "text/html": [
       "<div>\n",
       "<style scoped>\n",
       "    .dataframe tbody tr th:only-of-type {\n",
       "        vertical-align: middle;\n",
       "    }\n",
       "\n",
       "    .dataframe tbody tr th {\n",
       "        vertical-align: top;\n",
       "    }\n",
       "\n",
       "    .dataframe thead th {\n",
       "        text-align: right;\n",
       "    }\n",
       "</style>\n",
       "<table border=\"1\" class=\"dataframe\">\n",
       "  <thead>\n",
       "    <tr style=\"text-align: right;\">\n",
       "      <th></th>\n",
       "      <th>reqID</th>\n",
       "      <th>Open</th>\n",
       "      <th>High</th>\n",
       "      <th>Low</th>\n",
       "      <th>Close</th>\n",
       "      <th>Volume</th>\n",
       "      <th>Count</th>\n",
       "      <th>WAP</th>\n",
       "      <th>Diff</th>\n",
       "      <th>DiffHL</th>\n",
       "      <th>DiffOC</th>\n",
       "      <th>VolumeOverCount</th>\n",
       "    </tr>\n",
       "    <tr>\n",
       "      <th>Date</th>\n",
       "      <th></th>\n",
       "      <th></th>\n",
       "      <th></th>\n",
       "      <th></th>\n",
       "      <th></th>\n",
       "      <th></th>\n",
       "      <th></th>\n",
       "      <th></th>\n",
       "      <th></th>\n",
       "      <th></th>\n",
       "      <th></th>\n",
       "      <th></th>\n",
       "    </tr>\n",
       "  </thead>\n",
       "  <tbody>\n",
       "    <tr>\n",
       "      <th>2004-02-17 15:30:00</th>\n",
       "      <td>5000</td>\n",
       "      <td>3.31</td>\n",
       "      <td>3.36</td>\n",
       "      <td>3.30</td>\n",
       "      <td>3.36</td>\n",
       "      <td>12215</td>\n",
       "      <td>506</td>\n",
       "      <td>3.325714</td>\n",
       "      <td>0.06</td>\n",
       "      <td>0.06</td>\n",
       "      <td>0.05</td>\n",
       "      <td>24.140316</td>\n",
       "    </tr>\n",
       "    <tr>\n",
       "      <th>2004-02-17 15:35:00</th>\n",
       "      <td>5000</td>\n",
       "      <td>3.35</td>\n",
       "      <td>3.36</td>\n",
       "      <td>3.32</td>\n",
       "      <td>3.33</td>\n",
       "      <td>14686</td>\n",
       "      <td>311</td>\n",
       "      <td>3.332143</td>\n",
       "      <td>0.04</td>\n",
       "      <td>0.04</td>\n",
       "      <td>0.02</td>\n",
       "      <td>47.221865</td>\n",
       "    </tr>\n",
       "    <tr>\n",
       "      <th>2004-02-17 15:40:00</th>\n",
       "      <td>5000</td>\n",
       "      <td>3.33</td>\n",
       "      <td>3.34</td>\n",
       "      <td>3.33</td>\n",
       "      <td>3.34</td>\n",
       "      <td>9233</td>\n",
       "      <td>170</td>\n",
       "      <td>3.333714</td>\n",
       "      <td>0.01</td>\n",
       "      <td>0.01</td>\n",
       "      <td>0.01</td>\n",
       "      <td>54.311765</td>\n",
       "    </tr>\n",
       "    <tr>\n",
       "      <th>2004-02-17 15:45:00</th>\n",
       "      <td>5000</td>\n",
       "      <td>3.34</td>\n",
       "      <td>3.34</td>\n",
       "      <td>3.32</td>\n",
       "      <td>3.33</td>\n",
       "      <td>5327</td>\n",
       "      <td>75</td>\n",
       "      <td>3.328143</td>\n",
       "      <td>0.02</td>\n",
       "      <td>0.02</td>\n",
       "      <td>0.01</td>\n",
       "      <td>71.026667</td>\n",
       "    </tr>\n",
       "    <tr>\n",
       "      <th>2004-02-17 15:50:00</th>\n",
       "      <td>5000</td>\n",
       "      <td>3.33</td>\n",
       "      <td>3.33</td>\n",
       "      <td>3.32</td>\n",
       "      <td>3.32</td>\n",
       "      <td>4270</td>\n",
       "      <td>113</td>\n",
       "      <td>3.323429</td>\n",
       "      <td>0.01</td>\n",
       "      <td>0.01</td>\n",
       "      <td>0.01</td>\n",
       "      <td>37.787611</td>\n",
       "    </tr>\n",
       "  </tbody>\n",
       "</table>\n",
       "</div>"
      ],
      "text/plain": [
       "                     reqID  Open  High   Low  Close  Volume  Count       WAP  \\\n",
       "Date                                                                           \n",
       "2004-02-17 15:30:00   5000  3.31  3.36  3.30   3.36   12215    506  3.325714   \n",
       "2004-02-17 15:35:00   5000  3.35  3.36  3.32   3.33   14686    311  3.332143   \n",
       "2004-02-17 15:40:00   5000  3.33  3.34  3.33   3.34    9233    170  3.333714   \n",
       "2004-02-17 15:45:00   5000  3.34  3.34  3.32   3.33    5327     75  3.328143   \n",
       "2004-02-17 15:50:00   5000  3.33  3.33  3.32   3.32    4270    113  3.323429   \n",
       "\n",
       "                     Diff  DiffHL  DiffOC  VolumeOverCount  \n",
       "Date                                                        \n",
       "2004-02-17 15:30:00  0.06    0.06    0.05        24.140316  \n",
       "2004-02-17 15:35:00  0.04    0.04    0.02        47.221865  \n",
       "2004-02-17 15:40:00  0.01    0.01    0.01        54.311765  \n",
       "2004-02-17 15:45:00  0.02    0.02    0.01        71.026667  \n",
       "2004-02-17 15:50:00  0.01    0.01    0.01        37.787611  "
      ]
     },
     "execution_count": 80,
     "metadata": {},
     "output_type": "execute_result"
    }
   ],
   "source": [
    "stock[\"DiffHL\"] = stock.High-stock.Low\n",
    "stock[\"DiffOC\"] = abs(stock.Open-stock.Close)\n",
    "stock[\"VolumeOverCount\"] =stock.Volume/stock.Count\n",
    "stock.head()"
   ]
  },
  {
   "cell_type": "code",
   "execution_count": 81,
   "metadata": {},
   "outputs": [
    {
     "data": {
      "text/plain": [
       "<matplotlib.axes._subplots.AxesSubplot at 0x129a839e8>"
      ]
     },
     "execution_count": 81,
     "metadata": {},
     "output_type": "execute_result"
    },
    {
     "data": {
      "image/png": "[encoded data removed]",
      "text/plain": [
       "<Figure size 432x288 with 1 Axes>"
      ]
     },
     "metadata": {},
     "output_type": "display_data"
    }
   ],
   "source": [
    "stock.plot.scatter(x=\"VolumeOverCount\", y=\"DiffOC\")"
   ]
  },
  {
   "cell_type": "code",
   "execution_count": 83,
   "metadata": {},
   "outputs": [
    {
     "ename": "ModuleNotFoundError",
     "evalue": "No module named 'matplotlib.finance'",
     "output_type": "error",
     "traceback": [
      "\u001b[0;31m---------------------------------------------------------------------------\u001b[0m",
      "\u001b[0;31mModuleNotFoundError\u001b[0m                       Traceback (most recent call last)",
      "\u001b[0;32m<ipython-input-83-c8e684845d47>\u001b[0m in \u001b[0;36m<module>\u001b[0;34m()\u001b[0m\n\u001b[0;32m----> 1\u001b[0;31m \u001b[0;32mfrom\u001b[0m \u001b[0mmatplotlib\u001b[0m\u001b[0;34m.\u001b[0m\u001b[0mfinance\u001b[0m \u001b[0;32mimport\u001b[0m \u001b[0mcandlestick_ohlc\u001b[0m\u001b[0;34m\u001b[0m\u001b[0m\n\u001b[0m\u001b[1;32m      2\u001b[0m \u001b[0;32mimport\u001b[0m \u001b[0mmatplotlib\u001b[0m\u001b[0;34m.\u001b[0m\u001b[0mdates\u001b[0m \u001b[0;32mas\u001b[0m \u001b[0mmdates\u001b[0m\u001b[0;34m\u001b[0m\u001b[0m\n",
      "\u001b[0;31mModuleNotFoundError\u001b[0m: No module named 'matplotlib.finance'"
     ]
    }
   ],
   "source": [
    "from matplotlib.finance import candlestick_ohlc\n",
    "import matplotlib.dates as mdates"
   ]
  },
  {
   "cell_type": "code",
   "execution_count": null,
   "metadata": {},
   "outputs": [],
   "source": []
  }
 ],
 "metadata": {
  "kernelspec": {
   "display_name": "Python 3",
   "language": "python",
   "name": "python3"
  },
  "language_info": {
   "codemirror_mode": {
    "name": "ipython",
    "version": 3
   },
   "file_extension": ".py",
   "mimetype": "text/x-python",
   "name": "python",
   "nbconvert_exporter": "python",
   "pygments_lexer": "ipython3",
   "version": "3.6.4"
  }
 },
 "nbformat": 4,
 "nbformat_minor": 2
}
